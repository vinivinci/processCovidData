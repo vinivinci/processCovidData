{
 "cells": [
  {
   "cell_type": "code",
   "execution_count": null,
   "metadata": {},
   "outputs": [],
   "source": [
    "import wget\n",
    "#wget.download('https://s3.sa-east-1.amazonaws.com/ckan.saude.gov.br/SIPNI/COVID/uf/uf%3DGO/part-00000-3b664362-3218-4bfa-8e3d-6891f24929be.c000.csv', './files')\n",
    "wget.download('https://s3.sa-east-1.amazonaws.com/ckan.saude.gov.br/LEITOS/2022-06-17/esus-vepi.LeitoOcupacao_2022.csv' , './files')"
   ]
  },
  {
   "cell_type": "code",
   "execution_count": null,
   "metadata": {},
   "outputs": [],
   "source": [
    "#pip install pandas\n",
    "#pip install seaborn\n",
    "#pip install pandas"
   ]
  },
  {
   "cell_type": "code",
   "execution_count": 2,
   "metadata": {},
   "outputs": [],
   "source": [
    "# Importando Pacote PANDAS\n",
    "import pandas as pd\n",
    "import numpy as np\n",
    "\n",
    "# Importando Pacote SEABORN\n",
    "import seaborn as sns\n",
    "sns.set()"
   ]
  },
  {
   "cell_type": "code",
   "execution_count": 3,
   "metadata": {},
   "outputs": [
    {
     "name": "stderr",
     "output_type": "stream",
     "text": [
      "C:\\Users\\vinic\\AppData\\Local\\Temp\\ipykernel_14096\\1986946205.py:1: DtypeWarning: Columns (7,8) have mixed types. Specify dtype option on import or set low_memory=False.\n",
      "  df_vacinacao = pd.read_csv('./files/part-00000-3b664362-3218-4bfa-8e3d-6891f24929be.c000.csv', sep=';')\n"
     ]
    }
   ],
   "source": [
    "df_vacinacao = pd.read_csv('./files/part-00000-3b664362-3218-4bfa-8e3d-6891f24929be.c000.csv', sep=';')\n",
    "df_leitos = pd.read_csv('./files/esus-vepi.LeitoOcupacao_2022.csv', sep=',')"
   ]
  },
  {
   "cell_type": "code",
   "execution_count": 81,
   "metadata": {},
   "outputs": [
    {
     "data": {
      "text/html": [
       "<div>\n",
       "<style scoped>\n",
       "    .dataframe tbody tr th:only-of-type {\n",
       "        vertical-align: middle;\n",
       "    }\n",
       "\n",
       "    .dataframe tbody tr th {\n",
       "        vertical-align: top;\n",
       "    }\n",
       "\n",
       "    .dataframe thead th {\n",
       "        text-align: right;\n",
       "    }\n",
       "</style>\n",
       "<table border=\"1\" class=\"dataframe\">\n",
       "  <thead>\n",
       "    <tr style=\"text-align: right;\">\n",
       "      <th></th>\n",
       "      <th>estabelecimento_municipio_nome</th>\n",
       "    </tr>\n",
       "    <tr>\n",
       "      <th>vacina_descricao_dose</th>\n",
       "      <th></th>\n",
       "    </tr>\n",
       "  </thead>\n",
       "  <tbody>\n",
       "    <tr>\n",
       "      <th>1ª Dose</th>\n",
       "      <td>1925978</td>\n",
       "    </tr>\n",
       "    <tr>\n",
       "      <th>1ª Dose Revacinação</th>\n",
       "      <td>1</td>\n",
       "    </tr>\n",
       "    <tr>\n",
       "      <th>2ª Dose</th>\n",
       "      <td>1668293</td>\n",
       "    </tr>\n",
       "    <tr>\n",
       "      <th>2º Reforço</th>\n",
       "      <td>137494</td>\n",
       "    </tr>\n",
       "    <tr>\n",
       "      <th>3ª Dose</th>\n",
       "      <td>1</td>\n",
       "    </tr>\n",
       "    <tr>\n",
       "      <th>3º Reforço</th>\n",
       "      <td>127</td>\n",
       "    </tr>\n",
       "    <tr>\n",
       "      <th>Dose</th>\n",
       "      <td>54226</td>\n",
       "    </tr>\n",
       "    <tr>\n",
       "      <th>Dose Adicional</th>\n",
       "      <td>58558</td>\n",
       "    </tr>\n",
       "    <tr>\n",
       "      <th>Dose Inicial</th>\n",
       "      <td>1</td>\n",
       "    </tr>\n",
       "    <tr>\n",
       "      <th>Reforço</th>\n",
       "      <td>789302</td>\n",
       "    </tr>\n",
       "  </tbody>\n",
       "</table>\n",
       "</div>"
      ],
      "text/plain": [
       "                       estabelecimento_municipio_nome\n",
       "vacina_descricao_dose                                \n",
       "1ª Dose                                       1925978\n",
       "1ª Dose Revacinação                                 1\n",
       "2ª Dose                                       1668293\n",
       "2º Reforço                                     137494\n",
       "3ª Dose                                             1\n",
       "3º Reforço                                        127\n",
       "Dose                                            54226\n",
       "Dose Adicional                                  58558\n",
       "Dose Inicial                                        1\n",
       "Reforço                                        789302"
      ]
     },
     "execution_count": 81,
     "metadata": {},
     "output_type": "execute_result"
    }
   ],
   "source": [
    "#Vacinação\n",
    "#Total de vacinados no estado:\n",
    "total_doses = df_vacinacao.filter(['vacina_descricao_dose', 'estabelecimento_municipio_nome']).groupby('vacina_descricao_dose').count()\n",
    "total_doses\n",
    "\n"
   ]
  },
  {
   "cell_type": "code",
   "execution_count": 82,
   "metadata": {},
   "outputs": [
    {
     "data": {
      "text/html": [
       "<div>\n",
       "<style scoped>\n",
       "    .dataframe tbody tr th:only-of-type {\n",
       "        vertical-align: middle;\n",
       "    }\n",
       "\n",
       "    .dataframe tbody tr th {\n",
       "        vertical-align: top;\n",
       "    }\n",
       "\n",
       "    .dataframe thead th {\n",
       "        text-align: right;\n",
       "    }\n",
       "</style>\n",
       "<table border=\"1\" class=\"dataframe\">\n",
       "  <thead>\n",
       "    <tr style=\"text-align: right;\">\n",
       "      <th></th>\n",
       "      <th>Municipio</th>\n",
       "      <th>Numero_de_doses</th>\n",
       "    </tr>\n",
       "  </thead>\n",
       "  <tbody>\n",
       "    <tr>\n",
       "      <th>0</th>\n",
       "      <td>ANHANGUERA</td>\n",
       "      <td>993</td>\n",
       "    </tr>\n",
       "  </tbody>\n",
       "</table>\n",
       "</div>"
      ],
      "text/plain": [
       "    Municipio  Numero_de_doses\n",
       "0  ANHANGUERA              993"
      ]
     },
     "execution_count": 82,
     "metadata": {},
     "output_type": "execute_result"
    }
   ],
   "source": [
    "#cidade com menor indice de vacinação:\n",
    "\n",
    "data_to_citys = df_vacinacao.filter(items=['estabelecimento_municipio_nome','vacina_descricao_dose']).groupby('estabelecimento_municipio_nome')['vacina_descricao_dose'].count()\n",
    "# data_to_citys = pd.DataFrame(data_to_citys) \n",
    "\n",
    "\n",
    "minimumValue = {'Municipio': data_to_citys.idxmin(), 'Numero_de_doses': [data_to_citys.min()]}\n",
    "\n",
    "minimumValue = pd.DataFrame(data= minimumValue)\n",
    "minimumValue"
   ]
  },
  {
   "cell_type": "code",
   "execution_count": 83,
   "metadata": {},
   "outputs": [
    {
     "data": {
      "text/html": [
       "<div>\n",
       "<style scoped>\n",
       "    .dataframe tbody tr th:only-of-type {\n",
       "        vertical-align: middle;\n",
       "    }\n",
       "\n",
       "    .dataframe tbody tr th {\n",
       "        vertical-align: top;\n",
       "    }\n",
       "\n",
       "    .dataframe thead th {\n",
       "        text-align: right;\n",
       "    }\n",
       "</style>\n",
       "<table border=\"1\" class=\"dataframe\">\n",
       "  <thead>\n",
       "    <tr style=\"text-align: right;\">\n",
       "      <th></th>\n",
       "      <th>Municipio</th>\n",
       "      <th>Numero_de_doses</th>\n",
       "    </tr>\n",
       "  </thead>\n",
       "  <tbody>\n",
       "    <tr>\n",
       "      <th>0</th>\n",
       "      <td>GOIANIA</td>\n",
       "      <td>1050293</td>\n",
       "    </tr>\n",
       "  </tbody>\n",
       "</table>\n",
       "</div>"
      ],
      "text/plain": [
       "  Municipio  Numero_de_doses\n",
       "0   GOIANIA          1050293"
      ]
     },
     "execution_count": 83,
     "metadata": {},
     "output_type": "execute_result"
    }
   ],
   "source": [
    "#Cidade com menor indice de vacinação:\n",
    "\n",
    "data_to_citys = df_vacinacao.filter(items=['estabelecimento_municipio_nome','vacina_descricao_dose']).groupby('estabelecimento_municipio_nome')['vacina_descricao_dose'].count()\n",
    "# data_to_citys = pd.DataFrame(data_to_citys) \n",
    "\n",
    "\n",
    "maximumValue = {'Municipio': data_to_citys.idxmax(), 'Numero_de_doses': [data_to_citys.max()]}\n",
    "\n",
    "maximumValue = pd.DataFrame(data= maximumValue)\n",
    "maximumValue"
   ]
  },
  {
   "cell_type": "code",
   "execution_count": 73,
   "metadata": {},
   "outputs": [
    {
     "name": "stderr",
     "output_type": "stream",
     "text": [
      "C:\\Users\\vinic\\AppData\\Local\\Temp\\ipykernel_14096\\3933540659.py:5: SettingWithCopyWarning: \n",
      "A value is trying to be set on a copy of a slice from a DataFrame.\n",
      "Try using .loc[row_indexer,col_indexer] = value instead\n",
      "\n",
      "See the caveats in the documentation: https://pandas.pydata.org/pandas-docs/stable/user_guide/indexing.html#returning-a-view-versus-a-copy\n",
      "  ocupGoias['dataNotificacao'] = ocupGoias['dataNotificacao'].astype('datetime64[ns]')\n"
     ]
    },
    {
     "data": {
      "text/html": [
       "<div>\n",
       "<style scoped>\n",
       "    .dataframe tbody tr th:only-of-type {\n",
       "        vertical-align: middle;\n",
       "    }\n",
       "\n",
       "    .dataframe tbody tr th {\n",
       "        vertical-align: top;\n",
       "    }\n",
       "\n",
       "    .dataframe thead th {\n",
       "        text-align: right;\n",
       "    }\n",
       "</style>\n",
       "<table border=\"1\" class=\"dataframe\">\n",
       "  <thead>\n",
       "    <tr style=\"text-align: right;\">\n",
       "      <th></th>\n",
       "      <th>Unnamed: 0</th>\n",
       "      <th>ocupacaoSuspeitoCli</th>\n",
       "      <th>ocupacaoSuspeitoUti</th>\n",
       "      <th>ocupacaoConfirmadoCli</th>\n",
       "      <th>ocupacaoConfirmadoUti</th>\n",
       "      <th>ocupacaoCovidUti</th>\n",
       "      <th>ocupacaoCovidCli</th>\n",
       "      <th>ocupacaoHospitalarUti</th>\n",
       "      <th>ocupacaoHospitalarCli</th>\n",
       "      <th>saidaSuspeitaObitos</th>\n",
       "      <th>saidaSuspeitaAltas</th>\n",
       "      <th>saidaConfirmadaObitos</th>\n",
       "      <th>saidaConfirmadaAltas</th>\n",
       "      <th>excluido</th>\n",
       "      <th>validado</th>\n",
       "    </tr>\n",
       "    <tr>\n",
       "      <th>dataNotificacao</th>\n",
       "      <th></th>\n",
       "      <th></th>\n",
       "      <th></th>\n",
       "      <th></th>\n",
       "      <th></th>\n",
       "      <th></th>\n",
       "      <th></th>\n",
       "      <th></th>\n",
       "      <th></th>\n",
       "      <th></th>\n",
       "      <th></th>\n",
       "      <th></th>\n",
       "      <th></th>\n",
       "      <th></th>\n",
       "      <th></th>\n",
       "    </tr>\n",
       "  </thead>\n",
       "  <tbody>\n",
       "    <tr>\n",
       "      <th>2022-05-15</th>\n",
       "      <td>1477091.75</td>\n",
       "      <td>NaN</td>\n",
       "      <td>NaN</td>\n",
       "      <td>NaN</td>\n",
       "      <td>NaN</td>\n",
       "      <td>5.25</td>\n",
       "      <td>0.25</td>\n",
       "      <td>7.25</td>\n",
       "      <td>28.25</td>\n",
       "      <td>0.0</td>\n",
       "      <td>0.0</td>\n",
       "      <td>0.25</td>\n",
       "      <td>0.0</td>\n",
       "      <td>0.0</td>\n",
       "      <td>0.0</td>\n",
       "    </tr>\n",
       "  </tbody>\n",
       "</table>\n",
       "</div>"
      ],
      "text/plain": [
       "                 Unnamed: 0  ocupacaoSuspeitoCli  ocupacaoSuspeitoUti  \\\n",
       "dataNotificacao                                                         \n",
       "2022-05-15       1477091.75                  NaN                  NaN   \n",
       "\n",
       "                 ocupacaoConfirmadoCli  ocupacaoConfirmadoUti  \\\n",
       "dataNotificacao                                                 \n",
       "2022-05-15                         NaN                    NaN   \n",
       "\n",
       "                 ocupacaoCovidUti  ocupacaoCovidCli  ocupacaoHospitalarUti  \\\n",
       "dataNotificacao                                                              \n",
       "2022-05-15                   5.25              0.25                   7.25   \n",
       "\n",
       "                 ocupacaoHospitalarCli  saidaSuspeitaObitos  \\\n",
       "dataNotificacao                                               \n",
       "2022-05-15                       28.25                  0.0   \n",
       "\n",
       "                 saidaSuspeitaAltas  saidaConfirmadaObitos  \\\n",
       "dataNotificacao                                              \n",
       "2022-05-15                      0.0                   0.25   \n",
       "\n",
       "                 saidaConfirmadaAltas  excluido  validado  \n",
       "dataNotificacao                                            \n",
       "2022-05-15                        0.0       0.0       0.0  "
      ]
     },
     "execution_count": 73,
     "metadata": {},
     "output_type": "execute_result"
    }
   ],
   "source": [
    "##Ocupação de leitos\n",
    "## O Dia com maior ocupação hospitalar por COVID-19 no estado\n",
    "\n",
    "ocupGoias = df_leitos.query('estado == \"Goiás\"')\n",
    "ocupGoias['dataNotificacao'] = ocupGoias['dataNotificacao'].astype('datetime64[ns]')\n",
    "dayMoreCases = ocupGoias.groupby([ocupGoias['dataNotificacao'].dt.date]).mean()\n",
    "dayMoreCases  = dayMoreCases[dayMoreCases['ocupacaoCovidUti'] ==  dayMoreCases['ocupacaoCovidUti'].max()] \n",
    "dayMoreCases"
   ]
  },
  {
   "cell_type": "code",
   "execution_count": 74,
   "metadata": {},
   "outputs": [
    {
     "data": {
      "text/html": [
       "<div>\n",
       "<style scoped>\n",
       "    .dataframe tbody tr th:only-of-type {\n",
       "        vertical-align: middle;\n",
       "    }\n",
       "\n",
       "    .dataframe tbody tr th {\n",
       "        vertical-align: top;\n",
       "    }\n",
       "\n",
       "    .dataframe thead th {\n",
       "        text-align: right;\n",
       "    }\n",
       "</style>\n",
       "<table border=\"1\" class=\"dataframe\">\n",
       "  <thead>\n",
       "    <tr style=\"text-align: right;\">\n",
       "      <th></th>\n",
       "      <th>Unnamed: 0</th>\n",
       "      <th>ocupacaoSuspeitoCli</th>\n",
       "      <th>ocupacaoSuspeitoUti</th>\n",
       "      <th>ocupacaoConfirmadoCli</th>\n",
       "      <th>ocupacaoConfirmadoUti</th>\n",
       "      <th>ocupacaoCovidUti</th>\n",
       "      <th>ocupacaoCovidCli</th>\n",
       "      <th>ocupacaoHospitalarUti</th>\n",
       "      <th>ocupacaoHospitalarCli</th>\n",
       "      <th>saidaSuspeitaObitos</th>\n",
       "      <th>saidaSuspeitaAltas</th>\n",
       "      <th>saidaConfirmadaObitos</th>\n",
       "      <th>saidaConfirmadaAltas</th>\n",
       "      <th>excluido</th>\n",
       "      <th>validado</th>\n",
       "    </tr>\n",
       "    <tr>\n",
       "      <th>municipio</th>\n",
       "      <th></th>\n",
       "      <th></th>\n",
       "      <th></th>\n",
       "      <th></th>\n",
       "      <th></th>\n",
       "      <th></th>\n",
       "      <th></th>\n",
       "      <th></th>\n",
       "      <th></th>\n",
       "      <th></th>\n",
       "      <th></th>\n",
       "      <th></th>\n",
       "      <th></th>\n",
       "      <th></th>\n",
       "      <th></th>\n",
       "    </tr>\n",
       "  </thead>\n",
       "  <tbody>\n",
       "    <tr>\n",
       "      <th>Nerópolis</th>\n",
       "      <td>1.405581e+06</td>\n",
       "      <td>NaN</td>\n",
       "      <td>NaN</td>\n",
       "      <td>NaN</td>\n",
       "      <td>NaN</td>\n",
       "      <td>15.12037</td>\n",
       "      <td>3.712963</td>\n",
       "      <td>41.916667</td>\n",
       "      <td>13.583333</td>\n",
       "      <td>8.0</td>\n",
       "      <td>6.037037</td>\n",
       "      <td>443.611111</td>\n",
       "      <td>688.583333</td>\n",
       "      <td>0.0</td>\n",
       "      <td>0.0</td>\n",
       "    </tr>\n",
       "  </tbody>\n",
       "</table>\n",
       "</div>"
      ],
      "text/plain": [
       "             Unnamed: 0  ocupacaoSuspeitoCli  ocupacaoSuspeitoUti  \\\n",
       "municipio                                                           \n",
       "Nerópolis  1.405581e+06                  NaN                  NaN   \n",
       "\n",
       "           ocupacaoConfirmadoCli  ocupacaoConfirmadoUti  ocupacaoCovidUti  \\\n",
       "municipio                                                                   \n",
       "Nerópolis                    NaN                    NaN          15.12037   \n",
       "\n",
       "           ocupacaoCovidCli  ocupacaoHospitalarUti  ocupacaoHospitalarCli  \\\n",
       "municipio                                                                   \n",
       "Nerópolis          3.712963              41.916667              13.583333   \n",
       "\n",
       "           saidaSuspeitaObitos  saidaSuspeitaAltas  saidaConfirmadaObitos  \\\n",
       "municipio                                                                   \n",
       "Nerópolis                  8.0            6.037037             443.611111   \n",
       "\n",
       "           saidaConfirmadaAltas  excluido  validado  \n",
       "municipio                                            \n",
       "Nerópolis            688.583333       0.0       0.0  "
      ]
     },
     "execution_count": 74,
     "metadata": {},
     "output_type": "execute_result"
    }
   ],
   "source": [
    "## Ocupação de leitos\n",
    "##  Cidade com mais índice de ocupação\n",
    "\n",
    "agroupCity = ocupGoias.groupby('municipio').mean();\n",
    "\n",
    "cityWithMoreOcupation =agroupCity[agroupCity['ocupacaoCovidUti'] == agroupCity['ocupacaoCovidUti'].max()] \n",
    "cityWithMoreOcupation"
   ]
  },
  {
   "cell_type": "code",
   "execution_count": 72,
   "metadata": {},
   "outputs": [
    {
     "data": {
      "text/html": [
       "<div>\n",
       "<style scoped>\n",
       "    .dataframe tbody tr th:only-of-type {\n",
       "        vertical-align: middle;\n",
       "    }\n",
       "\n",
       "    .dataframe tbody tr th {\n",
       "        vertical-align: top;\n",
       "    }\n",
       "\n",
       "    .dataframe thead th {\n",
       "        text-align: right;\n",
       "    }\n",
       "</style>\n",
       "<table border=\"1\" class=\"dataframe\">\n",
       "  <thead>\n",
       "    <tr style=\"text-align: right;\">\n",
       "      <th></th>\n",
       "      <th>Unnamed: 0</th>\n",
       "      <th>ocupacaoSuspeitoCli</th>\n",
       "      <th>ocupacaoSuspeitoUti</th>\n",
       "      <th>ocupacaoConfirmadoCli</th>\n",
       "      <th>ocupacaoConfirmadoUti</th>\n",
       "      <th>ocupacaoCovidUti</th>\n",
       "      <th>ocupacaoCovidCli</th>\n",
       "      <th>ocupacaoHospitalarUti</th>\n",
       "      <th>ocupacaoHospitalarCli</th>\n",
       "      <th>saidaSuspeitaObitos</th>\n",
       "      <th>saidaSuspeitaAltas</th>\n",
       "      <th>saidaConfirmadaObitos</th>\n",
       "      <th>saidaConfirmadaAltas</th>\n",
       "      <th>excluido</th>\n",
       "      <th>validado</th>\n",
       "    </tr>\n",
       "    <tr>\n",
       "      <th>municipio</th>\n",
       "      <th></th>\n",
       "      <th></th>\n",
       "      <th></th>\n",
       "      <th></th>\n",
       "      <th></th>\n",
       "      <th></th>\n",
       "      <th></th>\n",
       "      <th></th>\n",
       "      <th></th>\n",
       "      <th></th>\n",
       "      <th></th>\n",
       "      <th></th>\n",
       "      <th></th>\n",
       "      <th></th>\n",
       "      <th></th>\n",
       "    </tr>\n",
       "  </thead>\n",
       "  <tbody>\n",
       "    <tr>\n",
       "      <th>Goiatuba</th>\n",
       "      <td>1.394592e+06</td>\n",
       "      <td>NaN</td>\n",
       "      <td>NaN</td>\n",
       "      <td>NaN</td>\n",
       "      <td>NaN</td>\n",
       "      <td>0.002591</td>\n",
       "      <td>0.173575</td>\n",
       "      <td>0.031088</td>\n",
       "      <td>4.841969</td>\n",
       "      <td>0.031088</td>\n",
       "      <td>1.305699</td>\n",
       "      <td>0.002591</td>\n",
       "      <td>0.031088</td>\n",
       "      <td>0.0</td>\n",
       "      <td>0.0</td>\n",
       "    </tr>\n",
       "  </tbody>\n",
       "</table>\n",
       "</div>"
      ],
      "text/plain": [
       "             Unnamed: 0  ocupacaoSuspeitoCli  ocupacaoSuspeitoUti  \\\n",
       "municipio                                                           \n",
       "Goiatuba   1.394592e+06                  NaN                  NaN   \n",
       "\n",
       "           ocupacaoConfirmadoCli  ocupacaoConfirmadoUti  ocupacaoCovidUti  \\\n",
       "municipio                                                                   \n",
       "Goiatuba                     NaN                    NaN          0.002591   \n",
       "\n",
       "           ocupacaoCovidCli  ocupacaoHospitalarUti  ocupacaoHospitalarCli  \\\n",
       "municipio                                                                   \n",
       "Goiatuba           0.173575               0.031088               4.841969   \n",
       "\n",
       "           saidaSuspeitaObitos  saidaSuspeitaAltas  saidaConfirmadaObitos  \\\n",
       "municipio                                                                   \n",
       "Goiatuba              0.031088            1.305699               0.002591   \n",
       "\n",
       "           saidaConfirmadaAltas  excluido  validado  \n",
       "municipio                                            \n",
       "Goiatuba               0.031088       0.0       0.0  "
      ]
     },
     "execution_count": 72,
     "metadata": {},
     "output_type": "execute_result"
    }
   ],
   "source": [
    "## Ocupação de leitos\n",
    "##  Cidade com menor índice de ocupação\n",
    "\n",
    "agroupCity = ocupGoias.groupby('municipio').mean();\n",
    "\n",
    "cityWithLowerOcupation =agroupCity[agroupCity['ocupacaoCovidUti'] == agroupCity['ocupacaoCovidUti'].loc[agroupCity['ocupacaoCovidUti'] != 0].min()] \n",
    "cityWithLowerOcupation "
   ]
  },
  {
   "cell_type": "code",
   "execution_count": 111,
   "metadata": {},
   "outputs": [
    {
     "data": {
      "text/plain": [
       "<AxesSubplot:xlabel='dataNotificacao'>"
      ]
     },
     "execution_count": 111,
     "metadata": {},
     "output_type": "execute_result"
    },
    {
     "data": {
      "image/png": "[encoded data removed]",
      "text/plain": [
       "<Figure size 1152x720 with 1 Axes>"
      ]
     },
     "metadata": {
      "needs_background": "light"
     },
     "output_type": "display_data"
    }
   ],
   "source": [
    "#Relatório \n",
    "groupDate = ocupGoias.groupby([ocupGoias['dataNotificacao'].dt.month]).mean()\n",
    "\n",
    "groupDate.filter(['ocupacaoCovidUti','saidaConfirmadaObitos', 'saidaConfirmadaAltas']).plot(figsize= (16,10))"
   ]
  }
 ],
 "metadata": {
  "kernelspec": {
   "display_name": "Python 3.9.12 ('base')",
   "language": "python",
   "name": "python3"
  },
  "language_info": {
   "codemirror_mode": {
    "name": "ipython",
    "version": 3
   },
   "file_extension": ".py",
   "mimetype": "text/x-python",
   "name": "python",
   "nbconvert_exporter": "python",
   "pygments_lexer": "ipython3",
   "version": "3.9.12"
  },
  "orig_nbformat": 4,
  "vscode": {
   "interpreter": {
    "hash": "e8d09a232759a71b1ae5f43a7b9a38455eef19263d2c35c4eb2ca8e4f201fc91"
   }
  }
 },
 "nbformat": 4,
 "nbformat_minor": 2
}
