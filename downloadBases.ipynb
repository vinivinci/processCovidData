{
 "cells": [
  {
   "cell_type": "code",
   "execution_count": null,
   "metadata": {},
   "outputs": [],
   "source": [
    "import wget\n",
    "#wget.download('https://s3.sa-east-1.amazonaws.com/ckan.saude.gov.br/SIPNI/COVID/uf/uf%3DGO/part-00000-3b664362-3218-4bfa-8e3d-6891f24929be.c000.csv', './files')\n",
    "wget.download('https://s3.sa-east-1.amazonaws.com/ckan.saude.gov.br/LEITOS/2022-06-17/esus-vepi.LeitoOcupacao_2022.csv' , './files')"
   ]
  },
  {
   "cell_type": "code",
   "execution_count": null,
   "metadata": {},
   "outputs": [],
   "source": [
    "#pip install pandas\n",
    "#pip install seaborn\n",
    "#pip install pandas"
   ]
  },
  {
   "cell_type": "code",
   "execution_count": 6,
   "metadata": {},
   "outputs": [],
   "source": [
    "# Importando Pacote PANDAS\n",
    "import pandas as pd\n",
    "import numpy as np\n",
    "\n",
    "# Importando Pacote SEABORN\n",
    "import seaborn as sns\n",
    "sns.set()"
   ]
  },
  {
   "cell_type": "code",
   "execution_count": null,
   "metadata": {},
   "outputs": [],
   "source": [
    "df_vacinacao = pd.read_csv('./files/part-00000-3b664362-3218-4bfa-8e3d-6891f24929be.c000.csv', sep=';')\n",
    "df_leitos = pd.read_csv('./files/esus-vepi.LeitoOcupacao_2022.csv', sep=',')"
   ]
  },
  {
   "cell_type": "code",
   "execution_count": null,
   "metadata": {},
   "outputs": [],
   "source": [
    "#Vacinação\n",
    "#Total de vacinados no estado:\n",
    "total_doses = df_vacinacao.filter(['vacina_descricao_dose', 'estabelecimento_municipio_nome']).groupby('vacina_descricao_dose').count()\n",
    "total_doses\n",
    "\n"
   ]
  },
  {
   "cell_type": "code",
   "execution_count": null,
   "metadata": {},
   "outputs": [],
   "source": [
    "#cidade com menor indice de vacinação:\n",
    "\n",
    "data_to_citys = df_vacinacao.filter(items=['estabelecimento_municipio_nome','vacina_descricao_dose']).groupby('estabelecimento_municipio_nome')['vacina_descricao_dose'].count()\n",
    "# data_to_citys = pd.DataFrame(data_to_citys) \n",
    "\n",
    "\n",
    "minimumValue = {'Municipio': data_to_citys.idxmin(), 'Numero_de_doses': [data_to_citys.min()]}\n",
    "\n",
    "minimumValue = pd.DataFrame(data= minimumValue)\n",
    "minimumValue"
   ]
  },
  {
   "cell_type": "code",
   "execution_count": null,
   "metadata": {},
   "outputs": [],
   "source": [
    "#Cidade com menor indice de vacinação:\n",
    "\n",
    "data_to_citys = df_vacinacao.filter(items=['estabelecimento_municipio_nome','vacina_descricao_dose']).groupby('estabelecimento_municipio_nome')['vacina_descricao_dose'].count()\n",
    "# data_to_citys = pd.DataFrame(data_to_citys) \n",
    "\n",
    "\n",
    "maximumValue = {'Municipio': data_to_citys.idxmax(), 'Numero_de_doses': [data_to_citys.max()]}\n",
    "\n",
    "maximumValue = pd.DataFrame(data= maximumValue)\n",
    "maximumValue"
   ]
  }
 ],
 "metadata": {
  "kernelspec": {
   "display_name": "Python 3.9.12 ('base')",
   "language": "python",
   "name": "python3"
  },
  "language_info": {
   "codemirror_mode": {
    "name": "ipython",
    "version": 3
   },
   "file_extension": ".py",
   "mimetype": "text/x-python",
   "name": "python",
   "nbconvert_exporter": "python",
   "pygments_lexer": "ipython3",
   "version": "3.9.12"
  },
  "orig_nbformat": 4,
  "vscode": {
   "interpreter": {
    "hash": "e8d09a232759a71b1ae5f43a7b9a38455eef19263d2c35c4eb2ca8e4f201fc91"
   }
  }
 },
 "nbformat": 4,
 "nbformat_minor": 2
}
